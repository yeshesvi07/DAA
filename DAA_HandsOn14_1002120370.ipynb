{
 "cells": [
  {
   "cell_type": "code",
   "execution_count": 1,
   "id": "d6b72e0d",
   "metadata": {},
   "outputs": [],
   "source": [
    "#Topological Sort\n",
    "def TS(graph):\n",
    "\n",
    "  in_deg = {node: 0 for node in graph}\n",
    "  queue = []\n",
    "\n",
    "  for node in graph:\n",
    "    for neighbor in graph[node]:\n",
    "      in_deg[neighbor] += 1\n",
    "\n",
    "  for node in graph:\n",
    "    if in_degree[node] == 0:\n",
    "      queue.append(node)\n",
    "\n",
    "  res = []\n",
    "  while queue:\n",
    "    node = queue.pop(0)\n",
    "    res.append(node)\n",
    "\n",
    "    for neighbor in graph[node]:\n",
    "      in_deg[neighbor] -= 1\n",
    "      if in_degree[neighbor] == 0:\n",
    "        queue.append(neighbor)\n",
    "\n",
    "  if len(res) != len(graph):\n",
    "    return None\n",
    "\n",
    "  return res\n"
   ]
  },
  {
   "cell_type": "code",
   "execution_count": 5,
   "id": "e558455b",
   "metadata": {},
   "outputs": [],
   "source": [
    "#Depth First Search\n",
    "\n",
    "def dfs(graph, begin, visited=None):\n",
    "  if visited is None:\n",
    "    visited = set()\n",
    "\n",
    "  visited.add(start)\n",
    "\n",
    "  for neighbor in graph[begin]:\n",
    "    if neighbor not in visited:\n",
    "      dfs(graph, neighbor, visited)\n",
    "\n",
    "  return visited\n"
   ]
  },
  {
   "cell_type": "code",
   "execution_count": 9,
   "id": "a3af8faa",
   "metadata": {},
   "outputs": [],
   "source": [
    "#Kruskal algorithm \n",
    "\n",
    "def kruskal(graph):\n",
    "    result = [] \n",
    "    i = 0\n",
    "    e = 0\n",
    "\n",
    "    graph.sort(key=lambda x: x[2])\n",
    "\n",
    "    parent = []\n",
    "    for node in range(len(graph)):\n",
    "        parent.append(node)\n",
    "\n",
    "    while e < len(graph) - 1:\n",
    "\n",
    "        u, v, w = graph[i]\n",
    "        i = i + 1\n",
    "        x = find_parent(parent, u)\n",
    "        y = find_parent(parent, v)\n",
    "\n",
    "        if x != y:\n",
    "            e = e + 1  \n",
    "            result.append([u, v, w])\n",
    "            union_parent(parent, x, y)\n",
    "    return result  \n",
    "\n",
    "def find_parent(parent, i):\n",
    "    if parent[i] == i:\n",
    "        return i\n",
    "    parent[i] = find_parent(parent, parent[i])\n",
    "    return parent[i]\n",
    "\n",
    "\n",
    "def union_parent(parent, x, y):\n",
    "    x_set = find_parent(parent, x)\n",
    "    y_set = find_parent(parent, y)\n",
    "    parent[y_set] = x_set\n"
   ]
  },
  {
   "cell_type": "code",
   "execution_count": null,
   "id": "46d4fdad",
   "metadata": {},
   "outputs": [],
   "source": []
  }
 ],
 "metadata": {
  "kernelspec": {
   "display_name": "Python 3 (ipykernel)",
   "language": "python",
   "name": "python3"
  },
  "language_info": {
   "codemirror_mode": {
    "name": "ipython",
    "version": 3
   },
   "file_extension": ".py",
   "mimetype": "text/x-python",
   "name": "python",
   "nbconvert_exporter": "python",
   "pygments_lexer": "ipython3",
   "version": "3.11.4"
  }
 },
 "nbformat": 4,
 "nbformat_minor": 5
}

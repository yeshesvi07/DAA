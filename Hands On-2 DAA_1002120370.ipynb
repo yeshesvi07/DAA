{
 "cells": [
  {
   "cell_type": "code",
   "execution_count": 1,
   "id": "c28021e5",
   "metadata": {},
   "outputs": [
    {
     "name": "stdout",
     "output_type": "stream",
     "text": [
      "Sorted array is:\n",
      "11 \n",
      "12 \n",
      "22 \n",
      "25 \n",
      "34 \n",
      "64 \n",
      "90 \n",
      "Sorted array is:\n",
      "2 \n",
      "7 \n",
      "9 \n",
      "11 \n",
      "23 \n",
      "32 \n",
      "33 \n",
      "45 \n",
      "55 \n",
      "56 \n",
      "76 \n",
      "89 \n",
      "100 \n",
      "246 \n",
      "324 \n",
      "1007 \n",
      "Sorted array is:\n",
      "1 4 21 32 44 44 74 78 85 89 100 "
     ]
    }
   ],
   "source": [
    "def insertion_sort(nums):\n",
    "  for i in range(1, len(nums)):\n",
    "    key = nums[i]\n",
    "    j = i - 1\n",
    "    while j >= 0 and key < nums[j]:\n",
    "      nums[j+1] = nums[j]\n",
    "      j -= 1\n",
    "    nums[j+1] = key\n",
    "  return nums\n",
    "\n",
    "arr = [64, 34, 25, 12, 22, 11, 90]\n",
    "insertion_sort(arr)\n",
    "print(\"Sorted array is:\")\n",
    "for i in range(len(arr)):\n",
    "    print(\"%d\" % arr[i], end=\" \\n\")\n",
    "arr = [9,55,7,33,2,56,89,32,45,76,11,23,100,324,246,1007]\n",
    "insertion_sort(arr)\n",
    "print(\"Sorted array is:\")\n",
    "for i in range(len(arr)):\n",
    "    print(\"%d\"  % arr[i], end=\" \\n\")\n",
    "\n",
    "arr=[100,44,78,44,89,21,1,4,85,32,74]\n",
    "insertion_sort(arr)\n",
    "print(\"Sorted array is:\")\n",
    "for i in range(len(arr)):\n",
    "    print(\"%d\"  % arr[i], end=\" \")\n"
   ]
  },
  {
   "cell_type": "code",
   "execution_count": 3,
   "id": "fe86932c",
   "metadata": {},
   "outputs": [
    {
     "name": "stdout",
     "output_type": "stream",
     "text": [
      "Sorted array is:\n",
      "11 12 22 25 34 64 90 Sorted array is:\n",
      "2 \n",
      "7 \n",
      "9 \n",
      "11 \n",
      "23 \n",
      "32 \n",
      "33 \n",
      "45 \n",
      "55 \n",
      "56 \n",
      "76 \n",
      "89 \n",
      "100 \n",
      "246 \n",
      "324 \n",
      "1007 \n",
      "Sorted array is:\n",
      "1 4 21 32 44 44 74 78 85 89 100 "
     ]
    }
   ],
   "source": [
    "def selection_sort(arr):\n",
    "  for i in range(len(arr)):\n",
    "    min_idx = i\n",
    "    for j in range(i+1, len(arr)):\n",
    "      if arr[j] < arr[min_idx]:\n",
    "        min_idx = j\n",
    "    arr[i], arr[min_idx] = arr[min_idx], arr[i]\n",
    "\n",
    "arr = [64, 34, 25, 12, 22, 11, 90]\n",
    "selection_sort(arr)\n",
    "print(\"Sorted array is:\")\n",
    "for i in range(len(arr)):\n",
    "    print(\"%d\" % arr[i], end=\" \")\n",
    "arr = [9,55,7,33,2,56,89,32,45,76,11,23,100,324,246,1007]\n",
    "selection_sort(arr)\n",
    "print(\"Sorted array is:\")\n",
    "for i in range(len(arr)):\n",
    "    print(\"%d\"  % arr[i], end=\" \\n\")\n",
    "\n",
    "arr=[100,44,78,44,89,21,1,4,85,32,74]\n",
    "selection_sort(arr)\n",
    "print(\"Sorted array is:\")\n",
    "for i in range(len(arr)):\n",
    "    print(\"%d\"  % arr[i], end=\" \")\n",
    "\n",
    "    \n",
    "    "
   ]
  },
  {
   "cell_type": "markdown",
   "id": "c842c20a",
   "metadata": {},
   "source": [
    "2) \n",
    "Selection sort operates by repeatedly selecting the minimum element from the unsorted portion of the array and exchanging it with the first unsorted member. This method is repeated until the whole array is sorted. The approach is valid because it ensures that the smallest member is moved to the beginning in each iteration, causing the array to gradually sort."
   ]
  },
  {
   "cell_type": "code",
   "execution_count": 4,
   "id": "c407e173",
   "metadata": {},
   "outputs": [
    {
     "name": "stdout",
     "output_type": "stream",
     "text": [
      "Sorted array is:\n",
      "11 12 22 25 34 64 90 Sorted array is:\n",
      "2 \n",
      "7 \n",
      "9 \n",
      "11 \n",
      "23 \n",
      "32 \n",
      "33 \n",
      "45 \n",
      "55 \n",
      "56 \n",
      "76 \n",
      "89 \n",
      "100 \n",
      "246 \n",
      "324 \n",
      "1007 \n",
      "Sorted array is:\n",
      "1 4 21 32 44 44 74 78 85 89 100 "
     ]
    }
   ],
   "source": [
    "def bubble_sort(arr):\n",
    "    n = len(arr)\n",
    "    for i in range(n):\n",
    "        for j in range(0, n - i - 1):\n",
    "            if arr[j] > arr[j + 1]:\n",
    "                arr[j], arr[j + 1] = arr[j + 1], arr[j]\n",
    "\n",
    "arr = [64, 34, 25, 12, 22, 11, 90]\n",
    "\n",
    "bubble_sort(arr)\n",
    "\n",
    "print(\"Sorted array is:\")\n",
    "for i in range(len(arr)):\n",
    "    print(\"%d\" % arr[i], end=\" \\n\")\n",
    "    \n",
    "arr = [9,55,7,33,2,56,89,32,45,76,11,23,100,324,246,1007]\n",
    "bubble_sort(arr)\n",
    "print(\"Sorted array is:\")\n",
    "for i in range(len(arr)):\n",
    "    print(\"%d\"  % arr[i], end=\" \\n\")\n",
    "\n",
    "arr=[100,44,78,44,89,21,1,4,85,32,74]\n",
    "bubble_sort(arr)\n",
    "print(\"Sorted array is:\")\n",
    "for i in range(len(arr)):\n",
    "    print(\"%d\"  % arr[i], end=\" \")\n"
   ]
  },
  {
   "cell_type": "code",
   "execution_count": 5,
   "id": "b6c9ba22",
   "metadata": {},
   "outputs": [
    {
     "name": "stdout",
     "output_type": "stream",
     "text": [
      "Operating System: Windows 10\n",
      "RAM: 16 GB\n",
      "CPU: Intel Core i7\n"
     ]
    },
    {
     "data": {
      "image/png": "[encoded data removed]",
      "text/plain": [
       "<Figure size 640x480 with 1 Axes>"
      ]
     },
     "metadata": {},
     "output_type": "display_data"
    }
   ],
   "source": [
    "import timeit\n",
    "import matplotlib.pyplot as plt\n",
    "import platform\n",
    "\n",
    "os_info = platform.system() + ' ' + platform.release()\n",
    "ram_info = '16 GB'  # Update with your actual RAM size\n",
    "cpu_info = 'Intel Core i7'  # Update with your actual CPU\n",
    "\n",
    "print(f\"Operating System: {os_info}\")\n",
    "print(f\"RAM: {ram_info}\")\n",
    "print(f\"CPU: {cpu_info}\")\n",
    "\n",
    "\n",
    "\n",
    "sizes = [2, 25, 35, 55, 95, 155, 225, 500 ]  \n",
    "\n",
    "insertion = []\n",
    "selection = []\n",
    "bubble = []\n",
    "\n",
    "for size in sizes:\n",
    "    arr = list(range(size, 0, -1))  # Reverse sorted array\n",
    "    insert = timeit.timeit(lambda: insertion_sort(arr.copy()), number=100)\n",
    "    select = timeit.timeit(lambda: selection_sort(arr.copy()), number=100)\n",
    "    bubbletime = timeit.timeit(lambda: bubble_sort(arr.copy()), number=100)\n",
    "\n",
    "    insertion.append(insert)\n",
    "    selection.append(select)\n",
    "    bubble.append(bubbletime)\n",
    "    \n",
    "plt.plot(sizes, insertion, label='Insertion Sort')\n",
    "plt.plot(sizes, selection, label='Selection Sort')\n",
    "plt.plot(sizes, bubble, label='Bubble Sort')\n",
    "plt.xlabel('Input Size (n)')\n",
    "plt.ylabel('Time (seconds)')\n",
    "plt.legend()\n",
    "plt.show()\n"
   ]
  },
  {
   "cell_type": "code",
   "execution_count": null,
   "id": "d2c98de9",
   "metadata": {},
   "outputs": [],
   "source": []
  }
 ],
 "metadata": {
  "kernelspec": {
   "display_name": "Python 3 (ipykernel)",
   "language": "python",
   "name": "python3"
  },
  "language_info": {
   "codemirror_mode": {
    "name": "ipython",
    "version": 3
   },
   "file_extension": ".py",
   "mimetype": "text/x-python",
   "name": "python",
   "nbconvert_exporter": "python",
   "pygments_lexer": "ipython3",
   "version": "3.11.4"
  }
 },
 "nbformat": 4,
 "nbformat_minor": 5
}

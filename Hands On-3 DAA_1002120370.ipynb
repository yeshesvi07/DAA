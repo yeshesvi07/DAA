{
 "cells": [
  {
   "cell_type": "code",
   "execution_count": 1,
   "id": "82a5e38a",
   "metadata": {},
   "outputs": [
    {
     "name": "stdout",
     "output_type": "stream",
     "text": [
      "[1, 2, 2, 3, 4, 5, 6, 7]\n"
     ]
    }
   ],
   "source": [
    "def merge(arr):\n",
    "    if len(arr) <= 1:\n",
    "        return arr\n",
    "\n",
    "    mid = len(arr) // 2\n",
    "    left = merge(arr[:mid])\n",
    "    right = merge(arr[mid:])\n",
    "\n",
    "    after_merge = []\n",
    "    i, j = 0, 0\n",
    "\n",
    "    while i < len(left) and j < len(right):\n",
    "        if left[i] < right[j]:\n",
    "            after_merge.append(left[i])\n",
    "            i += 1\n",
    "        else:\n",
    "            after_merge.append(right[j])\n",
    "            j += 1\n",
    "\n",
    "    after_merge += left[i:]\n",
    "    after_merge += right[j:]\n",
    "\n",
    "    return after_merge\n",
    "\n",
    "arr = [5, 2, 4, 7, 1, 3, 2, 6];\n",
    "sortedArr = merge(arr);\n",
    "print(sortedArr);"
   ]
  },
  {
   "cell_type": "code",
   "execution_count": null,
   "id": "4a3070cd",
   "metadata": {},
   "outputs": [],
   "source": []
  }
 ],
 "metadata": {
  "kernelspec": {
   "display_name": "Python 3 (ipykernel)",
   "language": "python",
   "name": "python3"
  },
  "language_info": {
   "codemirror_mode": {
    "name": "ipython",
    "version": 3
   },
   "file_extension": ".py",
   "mimetype": "text/x-python",
   "name": "python",
   "nbconvert_exporter": "python",
   "pygments_lexer": "ipython3",
   "version": "3.11.4"
  }
 },
 "nbformat": 4,
 "nbformat_minor": 5
}

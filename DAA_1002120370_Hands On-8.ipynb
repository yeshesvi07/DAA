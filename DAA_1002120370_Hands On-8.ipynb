{
 "cells": [
  {
   "cell_type": "code",
   "execution_count": 1,
   "id": "87d24613",
   "metadata": {},
   "outputs": [
    {
     "name": "stdout",
     "output_type": "stream",
     "text": [
      "The 2th order statistic is: 3\n"
     ]
    }
   ],
   "source": [
    "import random\n",
    "\n",
    "def ith_order(a, i):\n",
    "    if i < 1 or i > len(a):\n",
    "        raise ValueError(\"Invalid value of i\")\n",
    "\n",
    "    pivot = random.choice(a)\n",
    "    small = [x for x in a if x < pivot]\n",
    "    equal = [x for x in a if x == pivot]\n",
    "    large = [x for x in a if x > pivot]\n",
    "\n",
    "    k = len(small)\n",
    "\n",
    "    if i <= k:\n",
    "        return ith_order(small, i)\n",
    "    elif i > k + len(equal):\n",
    "        return ith_order(large, i - (k + len(equal)))\n",
    "    else:\n",
    "        return pivot\n",
    "\n",
    "arr = [1, 11, 9, 3, 6, 7, 8, 4, 5]\n",
    "i = 2\n",
    "\n",
    "ans = ith_order(arr, i)\n",
    "print(f\"The {i}th order statistic is: {ans}\")\n"
   ]
  },
  {
   "cell_type": "code",
   "execution_count": null,
   "id": "91a0346a",
   "metadata": {},
   "outputs": [],
   "source": []
  }
 ],
 "metadata": {
  "kernelspec": {
   "display_name": "Python 3 (ipykernel)",
   "language": "python",
   "name": "python3"
  },
  "language_info": {
   "codemirror_mode": {
    "name": "ipython",
    "version": 3
   },
   "file_extension": ".py",
   "mimetype": "text/x-python",
   "name": "python",
   "nbconvert_exporter": "python",
   "pygments_lexer": "ipython3",
   "version": "3.11.4"
  }
 },
 "nbformat": 4,
 "nbformat_minor": 5
}

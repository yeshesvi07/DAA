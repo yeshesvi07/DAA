{
 "cells": [
  {
   "cell_type": "code",
   "execution_count": 2,
   "id": "d15b8ab5",
   "metadata": {},
   "outputs": [],
   "source": [
    "#Dijkstra's Algorithm\n",
    "\n",
    "import heapq\n",
    "\n",
    "def DJ(graph, start, end):\n",
    "  dist = {node: float('inf') for node in graph}\n",
    "  dist[start] = 0\n",
    "  queue = [(0, start)]\n",
    "\n",
    "  while queue:\n",
    "    present_distance, current_node = heapq.heappop(queue)\n",
    "\n",
    "    if current_node == end:\n",
    "      return dist[end]\n",
    "\n",
    "    for neighbor, weight in graph[current_node].items():\n",
    "      distance = present_distance + weight\n",
    "\n",
    "      if distance < dist[neighbor]:\n",
    "        dist[neighbor] = distance\n",
    "        heapq.heappush(queue, (distance, neighbor))\n",
    "\n",
    "  return dist[end]\n"
   ]
  },
  {
   "cell_type": "code",
   "execution_count": 3,
   "id": "ff858fd6",
   "metadata": {},
   "outputs": [
    {
     "name": "stdout",
     "output_type": "stream",
     "text": [
      "Vertex Distance from Source\n",
      "0 \t\t 0\n",
      "1 \t\t -1\n",
      "2 \t\t 2\n",
      "3 \t\t -2\n",
      "4 \t\t 1\n"
     ]
    }
   ],
   "source": [
    "#Bellman-Ford Algorithm\n",
    "\n",
    "def BF(edge, V, E, src):\n",
    "  dist = [float('inf')] * V\n",
    "  dist[src] = 0\n",
    "\n",
    "  for _ in range(V - 1):\n",
    "    for u, v, w in edge:\n",
    "      if dist[u] != float('inf') and dist[u] + w < dist[v]:\n",
    "        dist[v] = dist[u] + w\n",
    "\n",
    "  for u, v, w in edge:\n",
    "    if dist[u] != float('inf') and dist[u] + w < dist[v]:\n",
    "      print(\"Graph contains negative weight cycle\")\n",
    "      return\n",
    "\n",
    "  print(\"Vertex Distance from Source\")\n",
    "  for i in range(V):\n",
    "    print(f\"{i} \\t\\t {dist[i]}\")\n",
    "\n",
    "if __name__ == '__main__':\n",
    "  V = 5  \n",
    "  E = 8  \n",
    "  edge = [(0, 1, -1), (0, 2, 4), (1, 2, 3), (1, 3, 2), (1, 4, 2),\n",
    "          (3, 2, 5), (3, 1, 1), (4, 3, -3)]\n",
    "  src = 0  \n",
    "\n",
    "  BF(edge, V, E, src)\n"
   ]
  },
  {
   "cell_type": "code",
   "execution_count": 4,
   "id": "c1408a12",
   "metadata": {},
   "outputs": [],
   "source": [
    "# Floyd-Warshall Algorithm\n",
    "\n",
    "import sys \n",
    "\n",
    "def floydWarshall(graph): \n",
    "\n",
    "  dist = list(map(lambda i: list(map(lambda j: j, i)), graph)) \n",
    "  for k in range(len(graph)): \n",
    "    for i in range(len(graph)): \n",
    "      for j in range(len(graph)): \n",
    "        dist[i][j] = min(dist[i][j], dist[i][k] + dist[k][j]) \n",
    "  return dist \n"
   ]
  },
  {
   "cell_type": "code",
   "execution_count": null,
   "id": "880ab110",
   "metadata": {},
   "outputs": [],
   "source": []
  }
 ],
 "metadata": {
  "kernelspec": {
   "display_name": "Python 3 (ipykernel)",
   "language": "python",
   "name": "python3"
  },
  "language_info": {
   "codemirror_mode": {
    "name": "ipython",
    "version": 3
   },
   "file_extension": ".py",
   "mimetype": "text/x-python",
   "name": "python",
   "nbconvert_exporter": "python",
   "pygments_lexer": "ipython3",
   "version": "3.11.4"
  }
 },
 "nbformat": 4,
 "nbformat_minor": 5
}

{
  "nbformat": 4,
  "nbformat_minor": 0,
  "metadata": {
    "colab": {
      "provenance": []
    },
    "kernelspec": {
      "name": "python3",
      "display_name": "Python 3"
    },
    "language_info": {
      "name": "python"
    }
  },
  "cells": [
    {
      "cell_type": "code",
      "execution_count": 1,
      "metadata": {
        "colab": {
          "base_uri": "https://localhost:8080/"
        },
        "id": "MViy-ENN_iCF",
        "outputId": "7a0cf5d1-29d7-4a54-9334-e0431e037295"
      },
      "outputs": [
        {
          "output_type": "stream",
          "name": "stdout",
          "text": [
            "Element at index 0: 10\n",
            "Element at index 1: 20\n",
            "Element at index 2: 30\n",
            "Length of array: 3\n",
            "Using __getitem__:\n",
            "Element at index 0: 10\n",
            "Element at index 1: 20\n",
            "Element at index 2: 30\n"
          ]
        }
      ],
      "source": [
        "class DA:\n",
        "    def __init__(self):\n",
        "        self.cap = 2\n",
        "        self.size = 0\n",
        "        self.data = self._create_arr(self.cap)\n",
        "\n",
        "    def _create_arr(self, cap):\n",
        "        return [0] * cap\n",
        "\n",
        "    def addele(self, element):\n",
        "        if self.size == self.cap:\n",
        "            self._resize_array(2 * self.cap)\n",
        "        self.data[self.size] = element\n",
        "        self.size += 1\n",
        "\n",
        "    def get_ele(self, index):\n",
        "        if 0 <= index < self.size:\n",
        "            return self.data[index]\n",
        "        else:\n",
        "            raise IndexError(\"Index is out of range\")\n",
        "\n",
        "    def _resize_array(self, new_cap):\n",
        "        new_data = self._create_arr(new_cap)\n",
        "        for i in range(self.size):\n",
        "            new_data[i] = self.data[i]\n",
        "        self.data = new_data\n",
        "        self.cap = new_cap\n",
        "\n",
        "    def __len__(self):\n",
        "        return self.size\n",
        "\n",
        "    def __getitem__(self, index):\n",
        "        return self.get_ele(index)\n",
        "\n",
        "new_arr= DA()\n",
        "\n",
        "\n",
        "new_arr.addele(10)\n",
        "new_arr.addele(20)\n",
        "new_arr.addele(30)\n",
        "\n",
        "\n",
        "print(\"Element at index 0:\", new_arr.get_ele(0))\n",
        "print(\"Element at index 1:\", new_arr.get_ele(1))\n",
        "print(\"Element at index 2:\", new_arr.get_ele(2))\n",
        "\n",
        "\n",
        "print(\"Length of array:\", len(new_arr))\n",
        "\n",
        "\n",
        "print(\"Using __getitem__:\")\n",
        "print(\"Element at index 0:\", new_arr[0])\n",
        "print(\"Element at index 1:\", new_arr[1])\n",
        "print(\"Element at index 2:\", new_arr[2])"
      ]
    },
    {
      "cell_type": "markdown",
      "source": [
        "2) Inserting n elements using a. Aggregate method\n",
        "The size doubles when it runs out of space. *So, if the original size is 1, after insertion it doubles to size 2 , after 2 or more insertions it doubles to size 4 etc.\n",
        "In general, after k doubles , the size is 2^k.\n",
        "Pseudo code: Initialize table with capacity=1 for i = 1 to n: newtable= create newtable with size 2*current size copy elements from old table to newtable table= new table\n",
        "\n",
        "Insert element into table Let k=log(n-1)-1 Total cost = O(n)*k =O(nlogn) Amortized cost per insertion= O(log n) Run time per Insertion is O(logn) Total time is O(n)*log(n+1)\n",
        "\n",
        "b. Accounting method *Change 2 units for each insertion\n",
        "\n",
        "when the table doubles in size from m to 2m , credit m units *The credit exactly pay for the copy cast of O(m) Total costis m+2m+4m+.....+m/2m = O(n)\n",
        "Pseudo Code: Initialize table with capacity=1 for i=1 to n: newtable= create newtable with size 2*current size copy elements from old table to newtable table=newtable insert element i into table initialize charges= 0 initialize credits=0\n",
        "\n",
        "for i=1 to n: charges+=2 If table doubles in size from m to 2m: credits+=m\n",
        "\n",
        "Total charges= 2n =O(n) Total credits= m+2m+.....+n/2m = O(n) Amortized cost per insertion = Total/n =O(n)/n =O(1)\n",
        "\n",
        "Run time Per Insertion = O(1) Total time=O(n)"
      ],
      "metadata": {
        "id": "lmlyfw4S_txo"
      }
    }
  ]
}